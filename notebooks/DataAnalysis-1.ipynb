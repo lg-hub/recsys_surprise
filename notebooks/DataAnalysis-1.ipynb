{
 "metadata": {
  "language_info": {
   "codemirror_mode": {
    "name": "ipython",
    "version": 3
   },
   "file_extension": ".py",
   "mimetype": "text/x-python",
   "name": "python",
   "nbconvert_exporter": "python",
   "pygments_lexer": "ipython3",
   "version": "3.7.7"
  },
  "orig_nbformat": 2,
  "kernelspec": {
   "name": "python377jvsc74a57bd08828901b80f888dc029c9f91cf343c2c8818b8d444644bfb27215f1fd9e1d526",
   "display_name": "Python 3.7.7 64-bit ('myenv': conda)"
  }
 },
 "nbformat": 4,
 "nbformat_minor": 2,
 "cells": [
  {
   "cell_type": "code",
   "execution_count": 4,
   "metadata": {},
   "outputs": [],
   "source": [
    "import pandas as pd\n",
    "import pyodbc\n"
   ]
  },
  {
   "cell_type": "code",
   "execution_count": 7,
   "metadata": {},
   "outputs": [],
   "source": [
    "access_engine = pyodbc.connect(r'Driver={Microsoft Access Driver (*.mdb, *.accdb)};DBQ=C:\\lgProgam\\DataSet\\Brazilian E-Commerce Public Dataset by Olist\\eCommerce_BRZ.accdb;')\n"
   ]
  },
  {
   "cell_type": "code",
   "execution_count": 13,
   "metadata": {},
   "outputs": [],
   "source": [
    "def query_accessdb(query, access_engine):\n",
    "    \"\"\"returns the pandas dataframe outlined in the query\n",
    "\n",
    "    Args:\n",
    "    access_engine -- the connection to MS Access DB\n",
    "    \"\"\"\n",
    "    \"\"\"  \n",
    "    x_query = \n",
    "            SELECT\n",
    "                customers.customer_unique_id,\n",
    "                customers.customer_zip_code_prefix,\n",
    "                customers.customer_city,\n",
    "                customers.customer_state,\n",
    "                order_item.order_id,\n",
    "                order_item.product_id,\n",
    "                order_item.seller_id,\n",
    "                order_item.price,\n",
    "                orders.order_purchase_timestamp,\n",
    "                orders.order_delivered_customer_date,\n",
    "                orders.order_estimated_delivery_date,\n",
    "                payments.payment_type,\n",
    "                payments.payment_installments,\n",
    "                payments.payment_value,\n",
    "                reviews.review_score,\n",
    "                products.product_weight_g,\n",
    "                product_category.product_category_name_english,\n",
    "                sellers.seller_zip_code_prefix,\n",
    "                sellers.seller_state,\n",
    "                sellers.seller_state\n",
    "            FROM customers\n",
    "                JOIN orders\n",
    "                    on orders.customer_id=customers.customer_id\n",
    "                JOIN reviews\n",
    "                    on reviews.order_id=orders.order_id\n",
    "                JOIN order_item\n",
    "                    on order_item.order_id=orders.order_id\n",
    "                JOIN payments\n",
    "                    on payments.order_id=orders.order_id\n",
    "                JOIN products\n",
    "                    on products.product_id=order_item.product_id\n",
    "                JOIN product_category\n",
    "                    on product_category.product_category_name=products.product_category_name\n",
    "                JOIN sellers\n",
    "                    on sellers.seller_id=order_item.seller_id\n",
    "\n",
    "    \"\"\"\n",
    "\n",
    "    #query = \"SELECT * FROM eComDataset\"\n",
    "    return pd.read_sql(query, access_engine)"
   ]
  },
  {
   "cell_type": "code",
   "execution_count": 14,
   "metadata": {},
   "outputs": [
    {
     "output_type": "stream",
     "name": "stdout",
     "text": [
      "                     customer_unique_id customer_zip_code_prefix  \\\n0      b0015e09bb4b6e47c52844fab5fb6638                    35550   \n1      104bdb7e6a6cdceaa88c3ea5fa6b2b93                    13272   \n2      e3cf594a99e810f58af53ed4820f25e5                    98700   \n3      f90f55ee274a4ae21510b386134b09cd                    02306   \n4      1bc9b2dad6aefbfbc011508e34c8adfc                    12335   \n...                                 ...                      ...   \n43886  7b6d07dac0a2c373d749142e920ae356                    09111   \n43887  d841aa88115365f9065248b6e49aaa2c                    98470   \n43888  948250fc2b818dd22924a8000d69700d                    35170   \n43889  48fd7dec70f2b104a1d5e8c5c639102b                    37130   \n43890  48fd7dec70f2b104a1d5e8c5c639102b                    37130   \n\n            customer_city customer_state                          order_id  \\\n0             itapecerica             MG  a44895d095d7e0702b6a162fa2dbeced   \n1                valinhos             SP  cd3558a10d854487b4f907e9b326a4fc   \n2                    ijui             RS  fa906f338cee30a984d0945b3832e431   \n3               sao paulo             SP  c208db5638f7f1cd04d185856852f864   \n4                 jacarei             SP  bc3e295306ee4d3eba91aca49b0bb539   \n...                   ...            ...                               ...   \n43886         santo andre             SP  d08a79ed250412c79cc17a81c4abcf86   \n43887            planalto             RS  ef499cbb85da7d399c43fe2eac17d076   \n43888  coronel fabriciano             MG  fd60bf4b9338e8b58fdf1e5df58c5cde   \n43889             alfenas             MG  d0e7be325a1c986babc4e1cdb91edc03   \n43890             alfenas             MG  d0e7be325a1c986babc4e1cdb91edc03   \n\n                             product_id                         seller_id  \\\n0      84183944dc7cddca87a5d384452c1d3c  2a1348e9addc1af5aaa619b1a3679d6b   \n1      fa23bf270fb9880690b07d09b9f9ff20  1b8356dabde1d35e17cef975c3f82730   \n2      79ad39409fa4bcc36b4b7f734c79c2a2  1da3aeb70d7989d1e6d9b0e887f97c23   \n3      ffbe3df3856b1fef3fee8f1264105a89  cbd996ad3c1b7dc71fd0e5f5df9087e2   \n4      bae1013381fa74d68d18c89d313f97eb  bb135baca94c82fcb731335ad5b04a03   \n...                                 ...                               ...   \n43886  5c86703f3b01f9df579c3a6232bb908b  8b321bb669392f5163d04c59e235e066   \n43887  5b3aa845bba5aa7ba1216e36ae882cfa  7178f9f4dd81dcef02f62acdf8151e01   \n43888  7935ddc510afb7d08989660b382b7f26  3d871de0142ce09b7081e2b9d1733cb1   \n43889  43ee88561093499d9e571d4db5f20b79  23613d49c3ac2bd302259e55c06c050c   \n43890  43ee88561093499d9e571d4db5f20b79  23613d49c3ac2bd302259e55c06c050c   \n\n       price order_purchase_timestamp order_delivered_customer_date  \\\n0      54.90      2017-07-16 09:40:32           2017-07-25 18:57:33   \n1      59.99      2017-04-12 08:35:12           2017-04-20 16:12:26   \n2      69.99      2017-09-17 16:04:44           2017-10-02 21:14:31   \n3      47.99      2017-03-15 23:44:09           2017-03-24 14:59:53   \n4      15.00      2017-10-11 07:44:31           2017-10-16 19:35:33   \n...      ...                      ...                           ...   \n43886  13.65      2018-04-09 12:36:56           2018-04-12 19:38:46   \n43887  14.90      2018-01-24 17:29:00           2018-02-07 20:27:46   \n43888  79.00      2018-03-12 23:42:22           2018-03-20 12:08:51   \n43889  10.90      2017-09-02 11:53:32           2017-09-14 19:47:40   \n43890  10.90      2017-09-02 11:53:32           2017-09-14 19:47:40   \n\n      order_estimated_delivery_date payment_type  payment_installments  \\\n0                        2017-08-04  credit_card                     5   \n1                        2017-05-04      voucher                     1   \n2                        2017-10-13  credit_card                     8   \n3                        2017-04-04       boleto                     1   \n4                        2017-10-24  credit_card                     1   \n...                             ...          ...                   ...   \n43886                    2018-04-19       boleto                     1   \n43887                    2018-03-02  credit_card                     3   \n43888                    2018-04-06       boleto                     1   \n43889                    2017-09-26  credit_card                     4   \n43890                    2017-09-26  credit_card                     4   \n\n       payment_value  review_score  product_weight_g  \\\n0                 67             4               150   \n1                 71             1               800   \n2                 85             5               200   \n3                 58             3               250   \n4                 45             5               300   \n...              ...           ...               ...   \n43886             21             5               200   \n43887             30             3                75   \n43888            102             5              7700   \n43889             45             5               200   \n43890             45             5               200   \n\n      product_category_name_english seller_zip_code_prefix seller_state  \\\n0                     health_beauty                  30494           MG   \n1                    sports_leisure                  03477           SP   \n2          fashion_bags_accessories                  04265           SP   \n3                     health_beauty                  15081           SP   \n4                   furniture_decor                  04362           SP   \n...                             ...                    ...          ...   \n43886                   electronics                  01212           SP   \n43887                 health_beauty                  89560           SC   \n43888                    stationery                  13232           SP   \n43889               furniture_decor                  13660           SP   \n43890               furniture_decor                  13660           SP   \n\n                 seller_city  \n0             belo horizonte  \n1                  sao paulo  \n2                  sao paulo  \n3      sao jose do rio preto  \n4                  sao paulo  \n...                      ...  \n43886              sao paulo  \n43887                videira  \n43888   campo limpo paulista  \n43889         porto ferreira  \n43890         porto ferreira  \n\n[43891 rows x 20 columns]\n"
     ]
    }
   ],
   "source": [
    "query = \"SELECT * FROM eComDataset\"\n",
    "olist_data = query_accessdb(query, access_engine)\n",
    "print(olist_data)"
   ]
  },
  {
   "cell_type": "code",
   "execution_count": null,
   "metadata": {},
   "outputs": [],
   "source": []
  }
 ]
}